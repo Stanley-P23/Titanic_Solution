{
 "cells": [
  {
   "cell_type": "code",
   "execution_count": 31,
   "id": "e63769dc-7102-4e50-8d90-b94a1d042a8b",
   "metadata": {},
   "outputs": [],
   "source": [
    "import numpy as np # linear algebra\n",
    "import pandas as pd # data processing, CSV file I/O (e.g. pd.read_csv)\n",
    "\n",
    "from datetime import datetime\n",
    "from scipy.stats import skew  # for some statistics\n",
    "from scipy.special import boxcox1p\n",
    "from scipy.stats import boxcox_normmax\n",
    "from sklearn.linear_model import ElasticNetCV, LassoCV, RidgeCV\n",
    "from sklearn.ensemble import GradientBoostingRegressor\n",
    "from sklearn.svm import SVR\n",
    "from sklearn.preprocessing import RobustScaler\n",
    "from sklearn.model_selection import KFold, cross_val_score\n",
    "from sklearn.metrics import mean_squared_error, classification_report, accuracy_score\n",
    "from mlxtend.regressor import StackingCVRegressor\n",
    "from xgboost import XGBRegressor\n",
    "from lightgbm import LGBMRegressor\n",
    "import matplotlib.pyplot as plt\n",
    "import scipy.stats as stats\n",
    "import sklearn.linear_model as linear_model\n",
    "import seaborn as sns\n",
    "from sklearn.manifold import TSNE\n",
    "from sklearn.cluster import KMeans\n",
    "from sklearn.decomposition import PCA\n",
    "from sklearn.preprocessing import StandardScaler, QuantileTransformer\n",
    "from sklearn.model_selection import GridSearchCV, KFold\n",
    "from imblearn.over_sampling import SMOTE\n",
    "from imblearn.pipeline import Pipeline as ImbPipeline  # Użyj pipeline’u z imblearn\n",
    "\n",
    "\n",
    "from sklearn.preprocessing import LabelEncoder\n",
    "import xgboost as xgb\n",
    "import os, math\n",
    "\n",
    "import warnings\n",
    "warnings.filterwarnings('ignore')"
   ]
  },
  {
   "cell_type": "code",
   "execution_count": 32,
   "id": "3dea97b8-fe68-47a7-b834-4eebd5a495a9",
   "metadata": {},
   "outputs": [
    {
     "name": "stdout",
     "output_type": "stream",
     "text": [
      "Data is loaded!\n",
      "Train set size: (8693, 14)\n",
      "Test set size: (4277, 13)\n"
     ]
    }
   ],
   "source": [
    "train = pd.read_csv('oryginalne pliki/train.csv')\n",
    "test = pd.read_csv('oryginalne pliki/test.csv')\n",
    "print (\"Data is loaded!\")\n",
    "print(\"Train set size:\", train.shape)\n",
    "print(\"Test set size:\", test.shape)"
   ]
  },
  {
   "cell_type": "code",
   "execution_count": 33,
   "id": "d4513334-026f-4236-bbf6-1ef63f9adc8e",
   "metadata": {},
   "outputs": [],
   "source": [
    "y = train.Transported.reset_index(drop=True)\n",
    "train_features = train.drop(['Transported'], axis=1)\n",
    "test_features = test"
   ]
  },
  {
   "cell_type": "markdown",
   "id": "feadff4f-5565-4fc5-88b5-a472c9410215",
   "metadata": {},
   "source": [
    "Merging training and testing dataset, to transform in uniformly"
   ]
  },
  {
   "cell_type": "code",
   "execution_count": 34,
   "id": "9e911418-fe81-4e26-be02-e260091049fe",
   "metadata": {},
   "outputs": [],
   "source": [
    "features = pd.concat([train_features, test_features]).reset_index(drop=True)"
   ]
  },
  {
   "cell_type": "markdown",
   "id": "623352b8-e451-44d8-9e40-dfbe32483ee4",
   "metadata": {},
   "source": [
    "Splitting PassengerID column"
   ]
  },
  {
   "cell_type": "code",
   "execution_count": 35,
   "id": "b036dc35-6b67-4356-bb1f-626f3965ea54",
   "metadata": {},
   "outputs": [],
   "source": [
    "features[['Group_no', 'Passenger_no']] = features['PassengerId'].str.split('_', expand=True)"
   ]
  },
  {
   "cell_type": "markdown",
   "id": "7205fa0c-dc74-4726-96f8-35abcee87d8b",
   "metadata": {},
   "source": [
    "Splitting Cabin column"
   ]
  },
  {
   "cell_type": "code",
   "execution_count": 36,
   "id": "71b7a269-65c6-418e-bab8-0610b4282b35",
   "metadata": {},
   "outputs": [],
   "source": [
    "features[['Deck', 'Cabin_no', 'Side']] = features['Cabin'].str.split('/', expand=True)"
   ]
  },
  {
   "cell_type": "code",
   "execution_count": 37,
   "id": "cbe7b00e-824c-4859-a5cf-fda3863fe262",
   "metadata": {},
   "outputs": [],
   "source": [
    "features.drop(['Cabin'], axis=1, inplace=True)"
   ]
  },
  {
   "cell_type": "markdown",
   "id": "1d18ae02-9cfb-4f77-a3af-f3f635272216",
   "metadata": {},
   "source": [
    "Splitting Name column"
   ]
  },
  {
   "cell_type": "code",
   "execution_count": 38,
   "id": "19f80f8e-43d9-4b3b-9e42-10c73e8ae186",
   "metadata": {},
   "outputs": [],
   "source": [
    "features['Surname'] = features['Name'].str.split(' ', expand=True)[1]"
   ]
  },
  {
   "cell_type": "code",
   "execution_count": 39,
   "id": "de13a253-b01a-4087-a9f1-a8b75ae275d0",
   "metadata": {},
   "outputs": [
    {
     "name": "stdout",
     "output_type": "stream",
     "text": [
      "PassengerId       0\n",
      "HomePlanet      288\n",
      "CryoSleep       310\n",
      "Destination     274\n",
      "Age             270\n",
      "VIP             296\n",
      "RoomService     263\n",
      "FoodCourt       289\n",
      "ShoppingMall    306\n",
      "Spa             284\n",
      "VRDeck          268\n",
      "Name            294\n",
      "Group_no          0\n",
      "Passenger_no      0\n",
      "Deck            299\n",
      "Cabin_no        299\n",
      "Side            299\n",
      "Surname         294\n",
      "dtype: int64\n"
     ]
    }
   ],
   "source": [
    "print(features.isna().sum())"
   ]
  },
  {
   "cell_type": "code",
   "execution_count": 40,
   "id": "790a096c-dda6-4b57-b3ba-20abed78216c",
   "metadata": {},
   "outputs": [
    {
     "data": {
      "text/html": [
       "<div>\n",
       "<style scoped>\n",
       "    .dataframe tbody tr th:only-of-type {\n",
       "        vertical-align: middle;\n",
       "    }\n",
       "\n",
       "    .dataframe tbody tr th {\n",
       "        vertical-align: top;\n",
       "    }\n",
       "\n",
       "    .dataframe thead th {\n",
       "        text-align: right;\n",
       "    }\n",
       "</style>\n",
       "<table border=\"1\" class=\"dataframe\">\n",
       "  <thead>\n",
       "    <tr style=\"text-align: right;\">\n",
       "      <th></th>\n",
       "      <th>PassengerId</th>\n",
       "      <th>HomePlanet</th>\n",
       "      <th>CryoSleep</th>\n",
       "      <th>Destination</th>\n",
       "      <th>Age</th>\n",
       "      <th>VIP</th>\n",
       "      <th>RoomService</th>\n",
       "      <th>FoodCourt</th>\n",
       "      <th>ShoppingMall</th>\n",
       "      <th>Spa</th>\n",
       "      <th>VRDeck</th>\n",
       "      <th>Name</th>\n",
       "      <th>Group_no</th>\n",
       "      <th>Passenger_no</th>\n",
       "      <th>Deck</th>\n",
       "      <th>Cabin_no</th>\n",
       "      <th>Side</th>\n",
       "      <th>Surname</th>\n",
       "    </tr>\n",
       "  </thead>\n",
       "  <tbody>\n",
       "    <tr>\n",
       "      <th>0</th>\n",
       "      <td>0001_01</td>\n",
       "      <td>Europa</td>\n",
       "      <td>False</td>\n",
       "      <td>TRAPPIST-1e</td>\n",
       "      <td>39.0</td>\n",
       "      <td>False</td>\n",
       "      <td>0.0</td>\n",
       "      <td>0.0</td>\n",
       "      <td>0.0</td>\n",
       "      <td>0.0</td>\n",
       "      <td>0.0</td>\n",
       "      <td>Maham Ofracculy</td>\n",
       "      <td>0001</td>\n",
       "      <td>01</td>\n",
       "      <td>B</td>\n",
       "      <td>0</td>\n",
       "      <td>P</td>\n",
       "      <td>Ofracculy</td>\n",
       "    </tr>\n",
       "    <tr>\n",
       "      <th>1</th>\n",
       "      <td>0002_01</td>\n",
       "      <td>Earth</td>\n",
       "      <td>False</td>\n",
       "      <td>TRAPPIST-1e</td>\n",
       "      <td>24.0</td>\n",
       "      <td>False</td>\n",
       "      <td>109.0</td>\n",
       "      <td>9.0</td>\n",
       "      <td>25.0</td>\n",
       "      <td>549.0</td>\n",
       "      <td>44.0</td>\n",
       "      <td>Juanna Vines</td>\n",
       "      <td>0002</td>\n",
       "      <td>01</td>\n",
       "      <td>F</td>\n",
       "      <td>0</td>\n",
       "      <td>S</td>\n",
       "      <td>Vines</td>\n",
       "    </tr>\n",
       "    <tr>\n",
       "      <th>2</th>\n",
       "      <td>0003_01</td>\n",
       "      <td>Europa</td>\n",
       "      <td>False</td>\n",
       "      <td>TRAPPIST-1e</td>\n",
       "      <td>58.0</td>\n",
       "      <td>True</td>\n",
       "      <td>43.0</td>\n",
       "      <td>3576.0</td>\n",
       "      <td>0.0</td>\n",
       "      <td>6715.0</td>\n",
       "      <td>49.0</td>\n",
       "      <td>Altark Susent</td>\n",
       "      <td>0003</td>\n",
       "      <td>01</td>\n",
       "      <td>A</td>\n",
       "      <td>0</td>\n",
       "      <td>S</td>\n",
       "      <td>Susent</td>\n",
       "    </tr>\n",
       "    <tr>\n",
       "      <th>3</th>\n",
       "      <td>0003_02</td>\n",
       "      <td>Europa</td>\n",
       "      <td>False</td>\n",
       "      <td>TRAPPIST-1e</td>\n",
       "      <td>33.0</td>\n",
       "      <td>False</td>\n",
       "      <td>0.0</td>\n",
       "      <td>1283.0</td>\n",
       "      <td>371.0</td>\n",
       "      <td>3329.0</td>\n",
       "      <td>193.0</td>\n",
       "      <td>Solam Susent</td>\n",
       "      <td>0003</td>\n",
       "      <td>02</td>\n",
       "      <td>A</td>\n",
       "      <td>0</td>\n",
       "      <td>S</td>\n",
       "      <td>Susent</td>\n",
       "    </tr>\n",
       "    <tr>\n",
       "      <th>4</th>\n",
       "      <td>0004_01</td>\n",
       "      <td>Earth</td>\n",
       "      <td>False</td>\n",
       "      <td>TRAPPIST-1e</td>\n",
       "      <td>16.0</td>\n",
       "      <td>False</td>\n",
       "      <td>303.0</td>\n",
       "      <td>70.0</td>\n",
       "      <td>151.0</td>\n",
       "      <td>565.0</td>\n",
       "      <td>2.0</td>\n",
       "      <td>Willy Santantines</td>\n",
       "      <td>0004</td>\n",
       "      <td>01</td>\n",
       "      <td>F</td>\n",
       "      <td>1</td>\n",
       "      <td>S</td>\n",
       "      <td>Santantines</td>\n",
       "    </tr>\n",
       "    <tr>\n",
       "      <th>...</th>\n",
       "      <td>...</td>\n",
       "      <td>...</td>\n",
       "      <td>...</td>\n",
       "      <td>...</td>\n",
       "      <td>...</td>\n",
       "      <td>...</td>\n",
       "      <td>...</td>\n",
       "      <td>...</td>\n",
       "      <td>...</td>\n",
       "      <td>...</td>\n",
       "      <td>...</td>\n",
       "      <td>...</td>\n",
       "      <td>...</td>\n",
       "      <td>...</td>\n",
       "      <td>...</td>\n",
       "      <td>...</td>\n",
       "      <td>...</td>\n",
       "      <td>...</td>\n",
       "    </tr>\n",
       "    <tr>\n",
       "      <th>12965</th>\n",
       "      <td>9266_02</td>\n",
       "      <td>Earth</td>\n",
       "      <td>True</td>\n",
       "      <td>TRAPPIST-1e</td>\n",
       "      <td>34.0</td>\n",
       "      <td>False</td>\n",
       "      <td>0.0</td>\n",
       "      <td>0.0</td>\n",
       "      <td>0.0</td>\n",
       "      <td>0.0</td>\n",
       "      <td>0.0</td>\n",
       "      <td>Jeron Peter</td>\n",
       "      <td>9266</td>\n",
       "      <td>02</td>\n",
       "      <td>G</td>\n",
       "      <td>1496</td>\n",
       "      <td>S</td>\n",
       "      <td>Peter</td>\n",
       "    </tr>\n",
       "    <tr>\n",
       "      <th>12966</th>\n",
       "      <td>9269_01</td>\n",
       "      <td>Earth</td>\n",
       "      <td>False</td>\n",
       "      <td>TRAPPIST-1e</td>\n",
       "      <td>42.0</td>\n",
       "      <td>False</td>\n",
       "      <td>0.0</td>\n",
       "      <td>847.0</td>\n",
       "      <td>17.0</td>\n",
       "      <td>10.0</td>\n",
       "      <td>144.0</td>\n",
       "      <td>Matty Scheron</td>\n",
       "      <td>9269</td>\n",
       "      <td>01</td>\n",
       "      <td>NaN</td>\n",
       "      <td>NaN</td>\n",
       "      <td>NaN</td>\n",
       "      <td>Scheron</td>\n",
       "    </tr>\n",
       "    <tr>\n",
       "      <th>12967</th>\n",
       "      <td>9271_01</td>\n",
       "      <td>Mars</td>\n",
       "      <td>True</td>\n",
       "      <td>55 Cancri e</td>\n",
       "      <td>NaN</td>\n",
       "      <td>False</td>\n",
       "      <td>0.0</td>\n",
       "      <td>0.0</td>\n",
       "      <td>0.0</td>\n",
       "      <td>0.0</td>\n",
       "      <td>0.0</td>\n",
       "      <td>Jayrin Pore</td>\n",
       "      <td>9271</td>\n",
       "      <td>01</td>\n",
       "      <td>D</td>\n",
       "      <td>296</td>\n",
       "      <td>P</td>\n",
       "      <td>Pore</td>\n",
       "    </tr>\n",
       "    <tr>\n",
       "      <th>12968</th>\n",
       "      <td>9273_01</td>\n",
       "      <td>Europa</td>\n",
       "      <td>False</td>\n",
       "      <td>NaN</td>\n",
       "      <td>NaN</td>\n",
       "      <td>False</td>\n",
       "      <td>0.0</td>\n",
       "      <td>2680.0</td>\n",
       "      <td>0.0</td>\n",
       "      <td>0.0</td>\n",
       "      <td>523.0</td>\n",
       "      <td>Kitakan Conale</td>\n",
       "      <td>9273</td>\n",
       "      <td>01</td>\n",
       "      <td>D</td>\n",
       "      <td>297</td>\n",
       "      <td>P</td>\n",
       "      <td>Conale</td>\n",
       "    </tr>\n",
       "    <tr>\n",
       "      <th>12969</th>\n",
       "      <td>9277_01</td>\n",
       "      <td>Earth</td>\n",
       "      <td>True</td>\n",
       "      <td>PSO J318.5-22</td>\n",
       "      <td>43.0</td>\n",
       "      <td>False</td>\n",
       "      <td>0.0</td>\n",
       "      <td>0.0</td>\n",
       "      <td>0.0</td>\n",
       "      <td>0.0</td>\n",
       "      <td>0.0</td>\n",
       "      <td>Lilace Leonzaley</td>\n",
       "      <td>9277</td>\n",
       "      <td>01</td>\n",
       "      <td>G</td>\n",
       "      <td>1498</td>\n",
       "      <td>S</td>\n",
       "      <td>Leonzaley</td>\n",
       "    </tr>\n",
       "  </tbody>\n",
       "</table>\n",
       "<p>12970 rows × 18 columns</p>\n",
       "</div>"
      ],
      "text/plain": [
       "      PassengerId HomePlanet CryoSleep    Destination   Age    VIP  \\\n",
       "0         0001_01     Europa     False    TRAPPIST-1e  39.0  False   \n",
       "1         0002_01      Earth     False    TRAPPIST-1e  24.0  False   \n",
       "2         0003_01     Europa     False    TRAPPIST-1e  58.0   True   \n",
       "3         0003_02     Europa     False    TRAPPIST-1e  33.0  False   \n",
       "4         0004_01      Earth     False    TRAPPIST-1e  16.0  False   \n",
       "...           ...        ...       ...            ...   ...    ...   \n",
       "12965     9266_02      Earth      True    TRAPPIST-1e  34.0  False   \n",
       "12966     9269_01      Earth     False    TRAPPIST-1e  42.0  False   \n",
       "12967     9271_01       Mars      True    55 Cancri e   NaN  False   \n",
       "12968     9273_01     Europa     False            NaN   NaN  False   \n",
       "12969     9277_01      Earth      True  PSO J318.5-22  43.0  False   \n",
       "\n",
       "       RoomService  FoodCourt  ShoppingMall     Spa  VRDeck  \\\n",
       "0              0.0        0.0           0.0     0.0     0.0   \n",
       "1            109.0        9.0          25.0   549.0    44.0   \n",
       "2             43.0     3576.0           0.0  6715.0    49.0   \n",
       "3              0.0     1283.0         371.0  3329.0   193.0   \n",
       "4            303.0       70.0         151.0   565.0     2.0   \n",
       "...            ...        ...           ...     ...     ...   \n",
       "12965          0.0        0.0           0.0     0.0     0.0   \n",
       "12966          0.0      847.0          17.0    10.0   144.0   \n",
       "12967          0.0        0.0           0.0     0.0     0.0   \n",
       "12968          0.0     2680.0           0.0     0.0   523.0   \n",
       "12969          0.0        0.0           0.0     0.0     0.0   \n",
       "\n",
       "                    Name Group_no Passenger_no Deck Cabin_no Side      Surname  \n",
       "0        Maham Ofracculy     0001           01    B        0    P    Ofracculy  \n",
       "1           Juanna Vines     0002           01    F        0    S        Vines  \n",
       "2          Altark Susent     0003           01    A        0    S       Susent  \n",
       "3           Solam Susent     0003           02    A        0    S       Susent  \n",
       "4      Willy Santantines     0004           01    F        1    S  Santantines  \n",
       "...                  ...      ...          ...  ...      ...  ...          ...  \n",
       "12965        Jeron Peter     9266           02    G     1496    S        Peter  \n",
       "12966      Matty Scheron     9269           01  NaN      NaN  NaN      Scheron  \n",
       "12967        Jayrin Pore     9271           01    D      296    P         Pore  \n",
       "12968     Kitakan Conale     9273           01    D      297    P       Conale  \n",
       "12969   Lilace Leonzaley     9277           01    G     1498    S    Leonzaley  \n",
       "\n",
       "[12970 rows x 18 columns]"
      ]
     },
     "execution_count": 40,
     "metadata": {},
     "output_type": "execute_result"
    }
   ],
   "source": [
    "features"
   ]
  },
  {
   "cell_type": "code",
   "execution_count": 41,
   "id": "6add832f-befd-4f05-b1fd-efb29d8aa4b4",
   "metadata": {},
   "outputs": [
    {
     "data": {
      "text/plain": [
       "12"
      ]
     },
     "execution_count": 41,
     "metadata": {},
     "output_type": "execute_result"
    }
   ],
   "source": [
    "categorical_columns = features.select_dtypes(include=['object']).columns.tolist()\n",
    "len(categorical_columns)"
   ]
  },
  {
   "cell_type": "markdown",
   "id": "809c8736-0943-482e-99ff-1ce7a2070950",
   "metadata": {},
   "source": [
    "Converts categorical values into numbers, preserving information about missing values (LabelEncoder does not handle NaN)."
   ]
  },
  {
   "cell_type": "code",
   "execution_count": 42,
   "id": "d5584d8d-da1e-4ffc-963f-24ec69a81b6b",
   "metadata": {},
   "outputs": [],
   "source": [
    "def label_encode_with_nan(series):\n",
    "    # Zamień wartości na stringi, w tym NaN → 'MISSING_TEMP_VALUE'\n",
    "    series_str = series.astype(str).fillna('MISSING_TEMP_VALUE')\n",
    "    \n",
    "    encoder = LabelEncoder()\n",
    "    encoded = encoder.fit_transform(series_str)\n",
    "    \n",
    "    # Zakodowane wartości do Series z oryginalnym indexem\n",
    "    result = pd.Series(encoded, index=series.index)\n",
    "    \n",
    "    # Przywróć NaN tam, gdzie były\n",
    "    result[series.isna()] = np.nan\n",
    "    \n",
    "    return result, encoder\n",
    "\n",
    "\n",
    "for col in categorical_columns:\n",
    "    features[col], _ = label_encode_with_nan(features[col])"
   ]
  },
  {
   "cell_type": "code",
   "execution_count": 43,
   "id": "ffe78066-f260-4629-bdd1-7d673f1ca14f",
   "metadata": {},
   "outputs": [],
   "source": [
    "columns_numerical = ['RoomService', 'FoodCourt', 'ShoppingMall', 'Spa', 'VRDeck', 'Age']\n"
   ]
  },
  {
   "cell_type": "code",
   "execution_count": 46,
   "id": "747cd913-4cac-4250-a698-0e4f2fae5b07",
   "metadata": {},
   "outputs": [
    {
     "name": "stdout",
     "output_type": "stream",
     "text": [
      "PassengerId       int64\n",
      "HomePlanet      float64\n",
      "CryoSleep       float64\n",
      "Destination     float64\n",
      "Age             float64\n",
      "VIP             float64\n",
      "RoomService     float64\n",
      "FoodCourt       float64\n",
      "ShoppingMall    float64\n",
      "Spa             float64\n",
      "VRDeck          float64\n",
      "Name            float64\n",
      "Group_no          int64\n",
      "Passenger_no      int64\n",
      "Deck            float64\n",
      "Cabin_no        float64\n",
      "Side            float64\n",
      "Surname         float64\n",
      "dtype: object\n"
     ]
    }
   ],
   "source": [
    "print(features.dtypes)"
   ]
  },
  {
   "cell_type": "markdown",
   "id": "5673acc4-8dd9-46d9-9ab1-d011381582ea",
   "metadata": {},
   "source": [
    "Splitting train and test datasets"
   ]
  },
  {
   "cell_type": "code",
   "execution_count": 50,
   "id": "4e8d24ff-3746-4d4f-b106-d6d19f8fe64b",
   "metadata": {},
   "outputs": [
    {
     "name": "stdout",
     "output_type": "stream",
     "text": [
      "X (8693, 18) y (8693,) X_sub (4277, 18)\n"
     ]
    }
   ],
   "source": [
    "X = features.iloc[:len(y), :]\n",
    "X_sub = features.iloc[len(X):, :]\n",
    "print('X', X.shape, 'y', y.shape, 'X_sub', X_sub.shape)"
   ]
  },
  {
   "cell_type": "markdown",
   "id": "9e322bb3-b285-4979-ae01-c95a4c8d1d98",
   "metadata": {},
   "source": [
    "ML part"
   ]
  },
  {
   "cell_type": "code",
   "execution_count": 52,
   "id": "09f79cbe-1162-4c3f-8379-53a1fed1dd13",
   "metadata": {},
   "outputs": [
    {
     "name": "stdout",
     "output_type": "stream",
     "text": [
      "Fitting 10 folds for each of 243 candidates, totalling 2430 fits\n",
      "\n",
      "Najlepsze parametry:  {'xgb__colsample_bytree': 1.0, 'xgb__learning_rate': 0.1, 'xgb__max_depth': 3, 'xgb__n_estimators': 200, 'xgb__subsample': 0.7}\n",
      "Najlepsza średnia dokładność (z walidacji krzyżowej): 0.8127\n",
      "\n",
      "Raport klasyfikacji dla całego zestawu danych:\n",
      "              precision    recall  f1-score   support\n",
      "\n",
      "       False       0.85      0.82      0.83      4315\n",
      "        True       0.83      0.85      0.84      4378\n",
      "\n",
      "    accuracy                           0.84      8693\n",
      "   macro avg       0.84      0.84      0.84      8693\n",
      "weighted avg       0.84      0.84      0.84      8693\n",
      "\n",
      "\n",
      "Ważność cech:\n",
      "Cecha 1: 0.0239\n",
      "Cecha 2: 0.0838\n",
      "Cecha 3: 0.4820\n",
      "Cecha 4: 0.0219\n",
      "Cecha 5: 0.0223\n",
      "Cecha 6: 0.0101\n",
      "Cecha 7: 0.0598\n",
      "Cecha 8: 0.0323\n",
      "Cecha 9: 0.0225\n",
      "Cecha 10: 0.0526\n",
      "Cecha 11: 0.0508\n",
      "Cecha 12: 0.0118\n",
      "Cecha 13: 0.0228\n",
      "Cecha 14: 0.0112\n",
      "Cecha 15: 0.0285\n",
      "Cecha 16: 0.0202\n",
      "Cecha 17: 0.0323\n",
      "Cecha 18: 0.0113\n"
     ]
    }
   ],
   "source": [
    "pipeline = ImbPipeline([\n",
    "    ('scaler', QuantileTransformer(output_distribution='normal')),  # Skalowanie cech do rozkładu normalnego\n",
    "    ('xgb', xgb.XGBClassifier(\n",
    "        objective='binary:logistic',  # Cel: klasyfikacja binarna\n",
    "        random_state=42,\n",
    "        \n",
    "     \n",
    "    ))\n",
    "])\n",
    "\n",
    "\n",
    "param_grid = {\n",
    "    'xgb__n_estimators': [50, 100, 200],      # Liczba drzew\n",
    "    'xgb__max_depth': [3, 4, 5],              # Maksymalna głębokość drzewa\n",
    "    'xgb__learning_rate': [0.01, 0.1, 0.3],   # Szybkość uczenia\n",
    "    'xgb__subsample': [0.7, 0.9, 1.0],         # Procent próbek używanych do treningu drzewa\n",
    "    'xgb__colsample_bytree': [0.6, 0.8, 1.0]\n",
    "}\n",
    "\n",
    "\n",
    "grid_search = GridSearchCV(\n",
    "    estimator=pipeline,\n",
    "    param_grid=param_grid,\n",
    "    scoring='f1',                       # Metryka do oceny\n",
    "    cv=KFold(n_splits=10, shuffle=True, random_state=42),  # 10-krotna walidacja krzyżowa\n",
    "    n_jobs=-1,                                # Użyj wszystkich dostępnych rdzeni\n",
    "    verbose=1                                 # Wyświetlaj postęp\n",
    ")\n",
    "\n",
    "grid_search.fit(X, y)\n",
    "\n",
    "#  Display the results of GridSearchCV\n",
    "print(\"\\nNajlepsze parametry: \", grid_search.best_params_)\n",
    "print(\"Najlepsza średnia dokładność (z walidacji krzyżowej): {:.4f}\".format(grid_search.best_score_))\n",
    "\n",
    "#  Use the best model to make predictions on the entire dataset\n",
    "best_model = grid_search.best_estimator_\n",
    "y_pred = best_model.predict(X)\n",
    "\n",
    "#  Display report\n",
    "print(\"\\nRaport klasyfikacji dla całego zestawu danych:\")\n",
    "print(classification_report(y, y_pred))\n",
    "\n",
    "#  List the feature importance from the best model\n",
    "feature_importance = best_model.named_steps['xgb'].feature_importances_\n",
    "print(\"\\nWażność cech:\")\n",
    "for i, importance in enumerate(feature_importance):\n",
    "    print(f\"Cecha {i+1}: {importance:.4f}\")"
   ]
  },
  {
   "cell_type": "code",
   "execution_count": 54,
   "id": "53734680-9669-4119-bd3d-56c294651274",
   "metadata": {},
   "outputs": [],
   "source": [
    "prediction = best_model.predict(X_sub).astype(bool)"
   ]
  },
  {
   "cell_type": "code",
   "execution_count": 55,
   "id": "12c13307-8113-4792-be6c-7c57c053c617",
   "metadata": {},
   "outputs": [
    {
     "data": {
      "text/plain": [
       "array([False, False,  True, ...,  True,  True,  True])"
      ]
     },
     "execution_count": 55,
     "metadata": {},
     "output_type": "execute_result"
    }
   ],
   "source": [
    "prediction"
   ]
  },
  {
   "cell_type": "code",
   "execution_count": 56,
   "id": "bb3a7554-2497-4d02-bcbd-6673e76b33f9",
   "metadata": {},
   "outputs": [],
   "source": [
    "submit = pd.read_csv('oryginalne pliki/sample_submission.csv')"
   ]
  },
  {
   "cell_type": "code",
   "execution_count": 57,
   "id": "36f867a7-925a-4291-b041-1d97616618e4",
   "metadata": {},
   "outputs": [],
   "source": [
    "submit[\"Transported\"] = prediction"
   ]
  },
  {
   "cell_type": "code",
   "execution_count": 58,
   "id": "c78b3469-6431-4fe5-b900-2f68bfd12231",
   "metadata": {},
   "outputs": [],
   "source": [
    "submit.to_csv(\"new_submission.csv\", index=False)"
   ]
  },
  {
   "cell_type": "markdown",
   "id": "352a8867-88fc-4303-97c1-553d0929b90a",
   "metadata": {},
   "source": [
    "The result is pretty good. I got 80% accuracy. The second result in the table is 82%. I can still tweak it a bit..."
   ]
  }
 ],
 "metadata": {
  "kernelspec": {
   "display_name": "Python 3 (ipykernel)",
   "language": "python",
   "name": "python3"
  },
  "language_info": {
   "codemirror_mode": {
    "name": "ipython",
    "version": 3
   },
   "file_extension": ".py",
   "mimetype": "text/x-python",
   "name": "python",
   "nbconvert_exporter": "python",
   "pygments_lexer": "ipython3",
   "version": "3.11.4"
  }
 },
 "nbformat": 4,
 "nbformat_minor": 5
}
